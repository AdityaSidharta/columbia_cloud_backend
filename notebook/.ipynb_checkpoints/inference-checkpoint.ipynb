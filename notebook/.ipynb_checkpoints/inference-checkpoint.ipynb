{
 "cells": [
  {
   "cell_type": "code",
   "execution_count": 2,
   "id": "faad1056",
   "metadata": {},
   "outputs": [],
   "source": [
    "from boto3 import Session"
   ]
  },
  {
   "cell_type": "code",
   "execution_count": 4,
   "id": "827340b8",
   "metadata": {},
   "outputs": [],
   "source": [
    "client = session.client('rekognition')"
   ]
  },
  {
   "cell_type": "code",
   "execution_count": 6,
   "id": "f74cc027",
   "metadata": {},
   "outputs": [],
   "source": [
    "with open('/home/aditya/git/columbia_cloud_backend/index.jpeg', 'rb') as img_file:\n",
    "    image = {'Bytes': img_file.read()}"
   ]
  },
  {
   "cell_type": "code",
   "execution_count": 9,
   "id": "9c63598e",
   "metadata": {},
   "outputs": [],
   "source": [
    "response = client.detect_text(Image=image) "
   ]
  },
  {
   "cell_type": "code",
   "execution_count": 11,
   "id": "0e7999b7",
   "metadata": {},
   "outputs": [],
   "source": [
    "textDetections=response['TextDetections']"
   ]
  },
  {
   "cell_type": "code",
   "execution_count": 16,
   "id": "ccdbed71",
   "metadata": {},
   "outputs": [],
   "source": [
    "texts = []\n",
    "for text in textDetections:\n",
    "    texts.append(text['DetectedText'])\n",
    "texts = ' '.join(texts)"
   ]
  },
  {
   "cell_type": "code",
   "execution_count": 10,
   "id": "5155617b",
   "metadata": {},
   "outputs": [],
   "source": [
    "runtime= session.client('runtime.sagemaker')"
   ]
  },
  {
   "cell_type": "code",
   "execution_count": 14,
   "id": "b69c4301",
   "metadata": {},
   "outputs": [],
   "source": [
    "from sagemaker.huggingface.model import HuggingFacePredictor\n",
    "from sagemaker.session import Session as SageSession\n",
    "sagesession = SageSession(boto_session=session)"
   ]
  },
  {
   "cell_type": "code",
   "execution_count": 17,
   "id": "c84f679c",
   "metadata": {},
   "outputs": [
    {
     "data": {
      "text/plain": [
       "[{'summary_text': ' An unvaccinated adult in Rockland County, New York, was left paralyzed after contracting the virus over the summer . The Centers for Disease Control and Prevention said it will initially work with health officials in Michigan and Philadelphia to identify communities with low vaccination rates . The virus spreading in the New York area is related to a strain used in the oral polio vaccine .'}]"
      ]
     },
     "execution_count": 17,
     "metadata": {},
     "output_type": "execute_result"
    }
   ],
   "source": [
    "predictor = HuggingFacePredictor(endpoint_name=\"huggingface-pytorch-inference-2022-12-01-19-07-33-017\", sagemaker_session=sagesession)\n",
    "predictor.predict({'inputs': \"\"\"The U.S. will expand polio wastewater surveillance to communities with low vaccination rates outside the New York City metro area, after an outbreak over the summer left an unvaccinated adult paralyzed and raised questions about how widely the virus may be circulating.\n",
    "\n",
    "The Centers for Disease Control and Prevention, in a statement Wednesday, said it will initially work with health officials in Michigan and Philadelphia to identify communities with low vaccination rates and begin testing sewage in those areas. The CDC said it is in preliminary discussions with other state and local health departments about expanding testing to other areas of the U.S.\n",
    "\n",
    "Federal health officials will also expand sewage surveillance for polio to counties that have possible connections to the communities in New York where the virus is known to be circulating. The CDC said the expanded surveillance program will help determine whether poliovirus is present in other parts of the U.S. and direct efforts to boost vaccination rates in communities that are risk.\n",
    "\n",
    "The sewage testing will last at least four months once initiated. The CDC described the expanded surveillance program as strategic and limited in focus to certain at-risk communities.\n",
    "\n",
    "The decision by federal health officials to expand polio surveillance comes after an unvaccinated adult in Rockland County, New York, was left paralyzed after contracting the virus over the summer. The CDC considers a single case of paralysis from polio a public health emergency because it’s so rare and indicates the virus is spreading throughout the community.\n",
    "\n",
    "Public health officials subsequently confirmed the virus was in fact spreading widely after sewage samples from five other New York counties tested positive. The Rockland patient did not travel internationally, which means they almost certainly picked up the virus from someone else in the community.\n",
    "\n",
    "The virus spreading in the New York area is related to a strain used in the oral polio vaccine. The U.S. stopped using this vaccine more than 20 years ago because it uses a live but weakened virus that in rare instances can mutate and become virulent again, posing a threat to the unvaccinated.\n",
    "\n",
    "Other countries do still use the oral polio vaccine because it is cheap, effective, easy to administer and generally safe. The U.S. uses an inactivated polio vaccine administered as a series of shots. It uses killed virus that cannot replicate or mutate.\n",
    "\n",
    "Although the Rockland County patient is believed to have caught polio through local spread, the chain of transmission likely originated abroad from someone who received the oral vaccine.\n",
    "\n",
    "The CDC said the risk to the general public is low because more than 92% of Americans are vaccinated against polio. The vaccine is very effective at preventing severe disease and paralysis, though it does not stop transmission of the virus.\n",
    "\n",
    "The oral vaccine is very effective at blocking transmission and is typically used to crush outbreaks. The CDC is holding discussions on possibly introducing a newer version of the oral vaccine, which is more stable and carries less a risk of mutation, to address rare outbreaks such as the one in New York.\"\"\"})"
   ]
  },
  {
   "cell_type": "code",
   "execution_count": 4,
   "id": "129eeb04",
   "metadata": {},
   "outputs": [
    {
     "ename": "UnsupportedLanguagePairException",
     "evalue": "An error occurred (UnsupportedLanguagePairException) when calling the TranslateText operation: Unsupported language pair: en to zzz. Target language 'zzz' is not supported",
     "output_type": "error",
     "traceback": [
      "\u001b[0;31m---------------------------------------------------------------------------\u001b[0m",
      "\u001b[0;31mUnsupportedLanguagePairException\u001b[0m          Traceback (most recent call last)",
      "\u001b[0;32m<ipython-input-4-b074f9feddd0>\u001b[0m in \u001b[0;36m<module>\u001b[0;34m\u001b[0m\n\u001b[1;32m      2\u001b[0m \u001b[0;34m\u001b[0m\u001b[0m\n\u001b[1;32m      3\u001b[0m result = translate.translate_text(Text=\"Hello, World\", \n\u001b[0;32m----> 4\u001b[0;31m             SourceLanguageCode=\"en\", TargetLanguageCode=\"zzz\")\n\u001b[0m",
      "\u001b[0;32m~/.pyenv/versions/cloud/lib/python3.6/site-packages/botocore/client.py\u001b[0m in \u001b[0;36m_api_call\u001b[0;34m(self, *args, **kwargs)\u001b[0m\n\u001b[1;32m    506\u001b[0m                 )\n\u001b[1;32m    507\u001b[0m             \u001b[0;31m# The \"self\" in this scope is referring to the BaseClient.\u001b[0m\u001b[0;34m\u001b[0m\u001b[0;34m\u001b[0m\u001b[0;34m\u001b[0m\u001b[0m\n\u001b[0;32m--> 508\u001b[0;31m             \u001b[0;32mreturn\u001b[0m \u001b[0mself\u001b[0m\u001b[0;34m.\u001b[0m\u001b[0m_make_api_call\u001b[0m\u001b[0;34m(\u001b[0m\u001b[0moperation_name\u001b[0m\u001b[0;34m,\u001b[0m \u001b[0mkwargs\u001b[0m\u001b[0;34m)\u001b[0m\u001b[0;34m\u001b[0m\u001b[0;34m\u001b[0m\u001b[0m\n\u001b[0m\u001b[1;32m    509\u001b[0m \u001b[0;34m\u001b[0m\u001b[0m\n\u001b[1;32m    510\u001b[0m         \u001b[0m_api_call\u001b[0m\u001b[0;34m.\u001b[0m\u001b[0m__name__\u001b[0m \u001b[0;34m=\u001b[0m \u001b[0mstr\u001b[0m\u001b[0;34m(\u001b[0m\u001b[0mpy_operation_name\u001b[0m\u001b[0;34m)\u001b[0m\u001b[0;34m\u001b[0m\u001b[0;34m\u001b[0m\u001b[0m\n",
      "\u001b[0;32m~/.pyenv/versions/cloud/lib/python3.6/site-packages/botocore/client.py\u001b[0m in \u001b[0;36m_make_api_call\u001b[0;34m(self, operation_name, api_params)\u001b[0m\n\u001b[1;32m    909\u001b[0m             \u001b[0merror_code\u001b[0m \u001b[0;34m=\u001b[0m \u001b[0mparsed_response\u001b[0m\u001b[0;34m.\u001b[0m\u001b[0mget\u001b[0m\u001b[0;34m(\u001b[0m\u001b[0;34m\"Error\"\u001b[0m\u001b[0;34m,\u001b[0m \u001b[0;34m{\u001b[0m\u001b[0;34m}\u001b[0m\u001b[0;34m)\u001b[0m\u001b[0;34m.\u001b[0m\u001b[0mget\u001b[0m\u001b[0;34m(\u001b[0m\u001b[0;34m\"Code\"\u001b[0m\u001b[0;34m)\u001b[0m\u001b[0;34m\u001b[0m\u001b[0;34m\u001b[0m\u001b[0m\n\u001b[1;32m    910\u001b[0m             \u001b[0merror_class\u001b[0m \u001b[0;34m=\u001b[0m \u001b[0mself\u001b[0m\u001b[0;34m.\u001b[0m\u001b[0mexceptions\u001b[0m\u001b[0;34m.\u001b[0m\u001b[0mfrom_code\u001b[0m\u001b[0;34m(\u001b[0m\u001b[0merror_code\u001b[0m\u001b[0;34m)\u001b[0m\u001b[0;34m\u001b[0m\u001b[0;34m\u001b[0m\u001b[0m\n\u001b[0;32m--> 911\u001b[0;31m             \u001b[0;32mraise\u001b[0m \u001b[0merror_class\u001b[0m\u001b[0;34m(\u001b[0m\u001b[0mparsed_response\u001b[0m\u001b[0;34m,\u001b[0m \u001b[0moperation_name\u001b[0m\u001b[0;34m)\u001b[0m\u001b[0;34m\u001b[0m\u001b[0;34m\u001b[0m\u001b[0m\n\u001b[0m\u001b[1;32m    912\u001b[0m         \u001b[0;32melse\u001b[0m\u001b[0;34m:\u001b[0m\u001b[0;34m\u001b[0m\u001b[0;34m\u001b[0m\u001b[0m\n\u001b[1;32m    913\u001b[0m             \u001b[0;32mreturn\u001b[0m \u001b[0mparsed_response\u001b[0m\u001b[0;34m\u001b[0m\u001b[0;34m\u001b[0m\u001b[0m\n",
      "\u001b[0;31mUnsupportedLanguagePairException\u001b[0m: An error occurred (UnsupportedLanguagePairException) when calling the TranslateText operation: Unsupported language pair: en to zzz. Target language 'zzz' is not supported"
     ]
    }
   ],
   "source": [
    "translate = session.client(service_name='translate')\n",
    "\n",
    "result = translate.translate_text(Text=\"Hello, World\", \n",
    "            SourceLanguageCode=\"en\", TargetLanguageCode=\"zzz\")"
   ]
  },
  {
   "cell_type": "code",
   "execution_count": 20,
   "id": "5e3691a9",
   "metadata": {},
   "outputs": [
    {
     "data": {
      "text/plain": [
       "'Hallo, Welt'"
      ]
     },
     "execution_count": 20,
     "metadata": {},
     "output_type": "execute_result"
    }
   ],
   "source": [
    "result.get('TranslatedText')"
   ]
  }
 ],
 "metadata": {
  "kernelspec": {
   "display_name": "cloud",
   "language": "python",
   "name": "cloud"
  },
  "language_info": {
   "codemirror_mode": {
    "name": "ipython",
    "version": 3
   },
   "file_extension": ".py",
   "mimetype": "text/x-python",
   "name": "python",
   "nbconvert_exporter": "python",
   "pygments_lexer": "ipython3",
   "version": "3.6.9"
  }
 },
 "nbformat": 4,
 "nbformat_minor": 5
}
