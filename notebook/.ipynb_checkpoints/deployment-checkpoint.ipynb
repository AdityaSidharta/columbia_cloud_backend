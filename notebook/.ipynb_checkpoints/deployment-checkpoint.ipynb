{
 "cells": [
  {
   "cell_type": "code",
   "execution_count": 2,
   "id": "4ee04738",
   "metadata": {},
   "outputs": [],
   "source": [
    "from sagemaker.huggingface import HuggingFaceModel\n",
    "from sagemaker.huggingface_model import \n",
    "from sagemaker import get_execution_role\n",
    "\n",
    "role = get_execution_role()\n",
    "\n",
    "# Hub Model configuration. https://huggingface.co/models\n",
    "hub = {\n",
    "  'HF_MODEL_ID':'sshleifer/distilbart-cnn-12-6',\n",
    "  'HF_TASK':'summarization'\n",
    "}\n",
    "\n",
    "# create Hugging Face Model Class\n",
    "huggingface_model = HuggingFaceModel(\n",
    "    transformers_version='4.17.0',\n",
    "    pytorch_version='1.10.2',\n",
    "    py_version='py38',\n",
    "    env=hub,\n",
    "    role=role,\n",
    ")"
   ]
  },
  {
   "cell_type": "code",
   "execution_count": 3,
   "id": "3138a11a",
   "metadata": {},
   "outputs": [
    {
     "data": {
      "text/plain": [
       "<sagemaker.huggingface.model.HuggingFaceModel at 0x7f479bd4f850>"
      ]
     },
     "execution_count": 3,
     "metadata": {},
     "output_type": "execute_result"
    }
   ],
   "source": [
    "huggingface_model"
   ]
  },
  {
   "cell_type": "code",
   "execution_count": 4,
   "id": "e4cac721",
   "metadata": {},
   "outputs": [
    {
     "name": "stdout",
     "output_type": "stream",
     "text": [
      "-----!"
     ]
    }
   ],
   "source": [
    "predictor = huggingface_model.deploy(initial_instance_count=1,instance_type=\"ml.m5.xlarge\")"
   ]
  },
  {
   "cell_type": "code",
   "execution_count": 14,
   "id": "e1e65e51",
   "metadata": {},
   "outputs": [
    {
     "data": {
      "text/plain": [
       "[{'summary_text': ' Tel Aviv, which topped the rankings last year, bumped into third place . Hong Kong and Los Angeles rounded out the top five priciest places . Tokyo and Osaka tumbled down the rankings, dropping 24 and 33 places respectively . Damascus and Tripoli are the world’s cheapest places . Sydney jumped into the top 10 as strong exports buoyed the Aussie dollar .'}]"
      ]
     },
     "execution_count": 14,
     "metadata": {},
     "output_type": "execute_result"
    }
   ],
   "source": [
    "# example request, you need to define \"inputs\"\n",
    "data = {\n",
    "   \"inputs\": \"\"\"\n",
    "   Tel Aviv, which topped the rankings last year, was bumped into third position, while Hong Kong and Los Angeles rounded out the top five priciest places.\n",
    "\n",
    "Asian cities tended to escape the steep price rises seen elsewhere, with the average increase in the cost of living at 4.5%, although individual country performance varied due to government policies and currency moves.\n",
    "\n",
    "Other key findings from the study included:\n",
    "\n",
    "    Tokyo and Osaka tumbled down the rankings, dropping 24 and 33 places respectively, as interest rates stayed low\n",
    "    The Syrian capital Damascus and Libya’s Tripoli are the world’s cheapest places\n",
    "    Sydney jumped into the top 10 as strong exports buoyed the Aussie dollar\n",
    "    San Francisco leaped into eighth place, from 24 last year\n",
    "    The six most expensive Chinese cities all rose up the ranks, with Shanghai entering the top 20\n",
    "\n",
    "California Cuts Access To Parks And Beaches\n",
    "The city skyline in San Francisco.\n",
    "Photographer: David Paul Morris/Bloomberg\n",
    "\n",
    "Upasana Dutt, head of worldwide cost of living at EIU, said: “The war in Ukraine, Western sanctions on Russia and China’s zero-Covid policies have caused supply-chain problems that, combined with rising interest rates and exchange-rate shifts, have resulted in a cost-of-living crisis across the world. We can see the impact in this year’s index, with the average price rise across the 172 cities in our survey being the strongest we’ve seen in the 20 years for which we have digital data.”\n",
    "\n",
    "The survey, which was carried out in August and September this year, compares more than 400 individual prices across over 200 products and services in 172 cities globally.\n",
    "\n",
    "These are the top 10 most expensive cities in the world, with their 2022 ranking. Some cities are tied.\n",
    "\n",
    "Singapore — 1\n",
    "\n",
    "New York, US — 1\n",
    "\n",
    "Tel Aviv, Israel — 3\n",
    "\n",
    "Hong Kong, China — 4\n",
    "\n",
    "Los Angeles, US — 4\n",
    "\n",
    "Zurich, Switzerland — 6\n",
    "\n",
    "Geneva, Switzerland — 7\n",
    "\n",
    "San Francisco, US — 8\n",
    "\n",
    "Paris, France — 9\n",
    "\n",
    "Copenhagen, Denmark — 10\n",
    "\n",
    "Sydney, Australia — 10\n",
    "   \"\"\"}\n",
    "\n",
    "# request\n",
    "predictor.predict(data)"
   ]
  },
  {
   "cell_type": "code",
   "execution_count": null,
   "id": "0f4280a9",
   "metadata": {},
   "outputs": [],
   "source": []
  }
 ],
 "metadata": {
  "kernelspec": {
   "display_name": "Python 3 (ipykernel)",
   "language": "python",
   "name": "python3"
  },
  "language_info": {
   "codemirror_mode": {
    "name": "ipython",
    "version": 3
   },
   "file_extension": ".py",
   "mimetype": "text/x-python",
   "name": "python",
   "nbconvert_exporter": "python",
   "pygments_lexer": "ipython3",
   "version": "3.8.10"
  }
 },
 "nbformat": 4,
 "nbformat_minor": 5
}
